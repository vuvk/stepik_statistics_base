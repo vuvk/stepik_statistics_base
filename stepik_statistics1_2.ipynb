{
 "cells": [
  {
   "cell_type": "markdown",
   "id": "f4510c8b",
   "metadata": {},
   "source": [
    "# Однофакторный дисперсионный анализ (One-way ANOVA)"
   ]
  },
  {
   "cell_type": "markdown",
   "id": "229fcda7",
   "metadata": {},
   "source": [
    "Очень часто в экспериментах и исследованиях возникает необходимость сравнить несколько групп между собой. В таком случае мы можем применять однофакторный дисперсионный анализ.  Та переменная, которая будет разделять наших испытуемых или наблюдения на группы (номинативная переменная с нескольким градациями) называется **независимой переменной**. А та количественная переменная, по степени выраженности которой мы сравниваем группы, называется **зависимая переменная**. "
   ]
  },
  {
   "cell_type": "markdown",
   "id": "bed7f4b0",
   "metadata": {},
   "source": [
    "Генотерапия позволяет корректировать работу дефективного гена, ответственного за развитие заболевания. В эксперименте сравнивалась эффективность четырех различных типов терапии."
   ]
  },
  {
   "cell_type": "code",
   "execution_count": 1,
   "id": "84e0d0d3",
   "metadata": {},
   "outputs": [],
   "source": [
    "# импортируем\n",
    "import pandas as pd\n",
    "import scipy.stats as stats"
   ]
  },
  {
   "cell_type": "code",
   "execution_count": 2,
   "id": "da0150fa",
   "metadata": {},
   "outputs": [
    {
     "data": {
      "text/plain": [
       "Index(['expr', 'Therapy'], dtype='object')"
      ]
     },
     "execution_count": 2,
     "metadata": {},
     "output_type": "execute_result"
    }
   ],
   "source": [
    "# читаем csv\n",
    "data = pd.read_csv('genetherapy.csv')\n",
    "data.columns"
   ]
  },
  {
   "cell_type": "code",
   "execution_count": 3,
   "id": "22f7312b",
   "metadata": {
    "scrolled": false
   },
   "outputs": [
    {
     "data": {
      "text/html": [
       "<div>\n",
       "<style scoped>\n",
       "    .dataframe tbody tr th:only-of-type {\n",
       "        vertical-align: middle;\n",
       "    }\n",
       "\n",
       "    .dataframe tbody tr th {\n",
       "        vertical-align: top;\n",
       "    }\n",
       "\n",
       "    .dataframe thead th {\n",
       "        text-align: right;\n",
       "    }\n",
       "</style>\n",
       "<table border=\"1\" class=\"dataframe\">\n",
       "  <thead>\n",
       "    <tr style=\"text-align: right;\">\n",
       "      <th></th>\n",
       "      <th>expr</th>\n",
       "      <th>Therapy</th>\n",
       "    </tr>\n",
       "  </thead>\n",
       "  <tbody>\n",
       "    <tr>\n",
       "      <th>0</th>\n",
       "      <td>100</td>\n",
       "      <td>A</td>\n",
       "    </tr>\n",
       "    <tr>\n",
       "      <th>1</th>\n",
       "      <td>96</td>\n",
       "      <td>A</td>\n",
       "    </tr>\n",
       "    <tr>\n",
       "      <th>2</th>\n",
       "      <td>101</td>\n",
       "      <td>A</td>\n",
       "    </tr>\n",
       "    <tr>\n",
       "      <th>3</th>\n",
       "      <td>95</td>\n",
       "      <td>A</td>\n",
       "    </tr>\n",
       "    <tr>\n",
       "      <th>4</th>\n",
       "      <td>103</td>\n",
       "      <td>A</td>\n",
       "    </tr>\n",
       "    <tr>\n",
       "      <th>5</th>\n",
       "      <td>99</td>\n",
       "      <td>A</td>\n",
       "    </tr>\n",
       "    <tr>\n",
       "      <th>6</th>\n",
       "      <td>97</td>\n",
       "      <td>A</td>\n",
       "    </tr>\n",
       "    <tr>\n",
       "      <th>7</th>\n",
       "      <td>96</td>\n",
       "      <td>A</td>\n",
       "    </tr>\n",
       "    <tr>\n",
       "      <th>8</th>\n",
       "      <td>98</td>\n",
       "      <td>A</td>\n",
       "    </tr>\n",
       "    <tr>\n",
       "      <th>9</th>\n",
       "      <td>106</td>\n",
       "      <td>A</td>\n",
       "    </tr>\n",
       "  </tbody>\n",
       "</table>\n",
       "</div>"
      ],
      "text/plain": [
       "   expr Therapy\n",
       "0   100       A\n",
       "1    96       A\n",
       "2   101       A\n",
       "3    95       A\n",
       "4   103       A\n",
       "5    99       A\n",
       "6    97       A\n",
       "7    96       A\n",
       "8    98       A\n",
       "9   106       A"
      ]
     },
     "execution_count": 3,
     "metadata": {},
     "output_type": "execute_result"
    }
   ],
   "source": [
    "data.head(10)"
   ]
  },
  {
   "cell_type": "code",
   "execution_count": 4,
   "id": "fbf2039d",
   "metadata": {},
   "outputs": [
    {
     "data": {
      "text/plain": [
       "array(['A', 'B', 'C', 'D'], dtype=object)"
      ]
     },
     "execution_count": 4,
     "metadata": {},
     "output_type": "execute_result"
    }
   ],
   "source": [
    "# какие варианты терапии есть\n",
    "data[\"Therapy\"].unique()"
   ]
  },
  {
   "cell_type": "code",
   "execution_count": 5,
   "id": "c8e2c8a3",
   "metadata": {},
   "outputs": [],
   "source": [
    "# разбиваем на группы\n",
    "cond_therapy_A = data[\"Therapy\"] == \"A\"\n",
    "cond_therapy_B = data[\"Therapy\"] == \"B\"\n",
    "cond_therapy_C = data[\"Therapy\"] == \"C\"\n",
    "cond_therapy_D = data[\"Therapy\"] == \"D\"\n",
    "# забираем уровень экспрессии по группам\n",
    "expr_A = data[cond_therapy_A][\"expr\"]\n",
    "expr_B = data[cond_therapy_B][\"expr\"]\n",
    "expr_C = data[cond_therapy_C][\"expr\"]\n",
    "expr_D = data[cond_therapy_D][\"expr\"]"
   ]
  },
  {
   "cell_type": "code",
   "execution_count": 6,
   "id": "4943149a",
   "metadata": {},
   "outputs": [
    {
     "name": "stdout",
     "output_type": "stream",
     "text": [
      "F = 8.0373 \n",
      "p = 0.0002\n"
     ]
    }
   ],
   "source": [
    "# считаем F-значение\n",
    "result = stats.f_oneway(expr_A, expr_B, expr_C, expr_D)\n",
    "print('F =', round(result[0], 4), '\\np =', round(result[1], 4))"
   ]
  },
  {
   "cell_type": "markdown",
   "id": "7c55cde2",
   "metadata": {},
   "source": [
    "### Предварительный вывод\n",
    "**p < 0.05**, можно смело отклонить нулевую гипотезу и как минимум 2 средних отличаются между собой."
   ]
  },
  {
   "cell_type": "code",
   "execution_count": 7,
   "id": "a81c99d4",
   "metadata": {},
   "outputs": [],
   "source": [
    "# выведем график\n",
    "import matplotlib.pyplot as plt\n",
    "\n",
    "therapies = data.Therapy.unique().tolist()\n",
    "listAVG = [data[data.Therapy==i].expr.mean() for i in therapies]\n",
    "listERR = [data[data.Therapy==i].expr.std() for i in therapies]"
   ]
  },
  {
   "cell_type": "code",
   "execution_count": 8,
   "id": "1ee9b398",
   "metadata": {
    "scrolled": true
   },
   "outputs": [
    {
     "data": {
      "image/png": "[encoded data removed]",
      "text/plain": [
       "<Figure size 1440x360 with 1 Axes>"
      ]
     },
     "metadata": {
      "needs_background": "light"
     },
     "output_type": "display_data"
    }
   ],
   "source": [
    "plt.figure(figsize=(20, 5))\n",
    "plt.errorbar(x=therapies, y=listAVG, yerr=listERR, color=\"black\", capsize=3, marker=\"s\", markersize=5, mfc=\"red\", mec=\"black\")\n",
    "plt.grid()\n",
    "plt.xlabel('therapy')\n",
    "plt.ylabel('value+error')\n",
    "plt.show()"
   ]
  },
  {
   "cell_type": "markdown",
   "id": "f8a573d6",
   "metadata": {},
   "source": [
    "# Вывод\n",
    "Терапии A и B, С и D имеют схожую эффективность, но в целом между группами она **разная**"
   ]
  },
  {
   "cell_type": "code",
   "execution_count": 9,
   "id": "a7b1acbc",
   "metadata": {
    "scrolled": false
   },
   "outputs": [
    {
     "name": "stdout",
     "output_type": "stream",
     "text": [
      " Multiple Comparison of Means - Tukey HSD, FWER=0.05 \n",
      "=====================================================\n",
      "group1 group2 meandiff p-adj   lower    upper  reject\n",
      "-----------------------------------------------------\n",
      "     A      B  -0.9333    0.9  -5.5961  3.7294  False\n",
      "     A      C  -5.3333 0.0189  -9.9961 -0.6706   True\n",
      "     A      D     -7.4  0.001 -12.0628 -2.7372   True\n",
      "     B      C     -4.4 0.0712  -9.0628  0.2628  False\n",
      "     B      D  -6.4667 0.0029 -11.1294 -1.8039   True\n",
      "     C      D  -2.0667 0.6296  -6.7294  2.5961  False\n",
      "-----------------------------------------------------\n"
     ]
    }
   ],
   "source": [
    "# вывод сравнения пар с помощью поправки Тьюки\n",
    "\n",
    "from statsmodels.stats.multicomp import (pairwise_tukeyhsd, MultiComparison)\n",
    "\n",
    "MultiComp = MultiComparison(data['expr'], data['Therapy'])\n",
    "print(MultiComp.tukeyhsd().summary())"
   ]
  },
  {
   "cell_type": "markdown",
   "id": "e77d8d5b",
   "metadata": {},
   "source": [
    "### Значимые различия в парах A-C, A-D, B-D"
   ]
  },
  {
   "cell_type": "code",
   "execution_count": null,
   "id": "ba4e4a81",
   "metadata": {},
   "outputs": [],
   "source": []
  }
 ],
 "metadata": {
  "kernelspec": {
   "display_name": "Python 3 (ipykernel)",
   "language": "python",
   "name": "python3"
  },
  "language_info": {
   "codemirror_mode": {
    "name": "ipython",
    "version": 3
   },
   "file_extension": ".py",
   "mimetype": "text/x-python",
   "name": "python",
   "nbconvert_exporter": "python",
   "pygments_lexer": "ipython3",
   "version": "3.9.7"
  }
 },
 "nbformat": 4,
 "nbformat_minor": 5
}
